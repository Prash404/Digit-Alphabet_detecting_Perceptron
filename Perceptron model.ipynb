{
 "cells": [
  {
   "cell_type": "markdown",
   "id": "7baa0eb4",
   "metadata": {},
   "source": [
    "## Implementing backpropagation (BP) on feedforward perceptron neural network with 2 hidden layers for recognizing digits 0-9, assuming 7-segment display as input and outputs 1 when K (0..9) is input, else outputs 0. Using Sigmoidal activation fn. and MSE as loss function.\n"
   ]
  },
  {
   "cell_type": "markdown",
   "id": "2de1502d",
   "metadata": {},
   "source": [
    "### (i) Examining effect of learning rate, hidden layers and nodes in each hidden layer.\n"
   ]
  },
  {
   "cell_type": "markdown",
   "id": "e575a8ff",
   "metadata": {},
   "source": [
    "### (ii) Studying convergence by plotting loss vs. iterations.\n"
   ]
  },
  {
   "cell_type": "markdown",
   "id": "9dd5dbd8",
   "metadata": {},
   "source": [
    "### (iii) Performing N-fold cross validation for evaluating performance metrics (Accuracy,Specificity, Sensitivity, Precession, Recall, and F-Measure)"
   ]
  },
  {
   "cell_type": "code",
   "execution_count": 1,
   "id": "be56f6cc",
   "metadata": {},
   "outputs": [],
   "source": [
    "import numpy as np\n",
    "import matplotlib.pyplot as plt\n",
    "import warnings\n",
    "warnings.filterwarnings(\"ignore\")"
   ]
  },
  {
   "cell_type": "markdown",
   "id": "9a20ecde",
   "metadata": {},
   "source": [
    "### Sigmoid Function"
   ]
  },
  {
   "cell_type": "code",
   "execution_count": 2,
   "id": "0817ac0d",
   "metadata": {},
   "outputs": [],
   "source": [
    "def sigmoid(x):\n",
    "    return 1 / (1 + np.exp(-x))"
   ]
  },
  {
   "cell_type": "code",
   "execution_count": 3,
   "id": "9925acc7",
   "metadata": {},
   "outputs": [],
   "source": [
    "def sigmoid_derivative(x):\n",
    "    return x * (1 - x)"
   ]
  },
  {
   "cell_type": "markdown",
   "id": "cdab06f7",
   "metadata": {},
   "source": [
    "### Neural Network"
   ]
  },
  {
   "cell_type": "code",
   "execution_count": 4,
   "id": "19e0ab8b",
   "metadata": {},
   "outputs": [],
   "source": [
    "class NeuralNetwork:\n",
    "    def __init__(self, input_size, hidden_size, output_size, learning_rate):\n",
    "        self.input_size = input_size\n",
    "        self.hidden_size = hidden_size\n",
    "        self.output_size = output_size\n",
    "        self.learning_rate = learning_rate\n",
    "\n",
    "        self.weights_input_hidden = np.random.uniform(size=(input_size, hidden_size))\n",
    "        self.bias_hidden = np.zeros((1, hidden_size))\n",
    "        self.weights_hidden_output = np.random.uniform(size=(hidden_size, output_size))\n",
    "        self.bias_output = np.zeros((1, output_size))\n",
    "    \n",
    "    def train(self, X, y, epochs):\n",
    "        losses = []\n",
    "        for epoch in range(epochs):\n",
    "            # Forward propagation\n",
    "            hidden_layer_input = np.dot(X, self.weights_input_hidden) + self.bias_hidden\n",
    "            hidden_layer_output = sigmoid(hidden_layer_input)\n",
    "            output_layer_input = np.dot(hidden_layer_output, self.weights_hidden_output) + self.bias_output\n",
    "            output_layer_output = sigmoid(output_layer_input)\n",
    "            # Calculate loss (MSE)\n",
    "            loss = np.mean((y - output_layer_output) ** 2)\n",
    "            losses.append(loss)\n",
    "            # Backpropagation\n",
    "            output_error = y - output_layer_output\n",
    "            output_delta = output_error * sigmoid_derivative(output_layer_output)\n",
    "\n",
    "            hidden_layer_error = output_delta.dot(self.weights_hidden_output.T)\n",
    "            hidden_layer_delta = hidden_layer_error * sigmoid_derivative(hidden_layer_output)\n",
    "            # Update weights and biases\n",
    "            self.weights_hidden_output += hidden_layer_output.T.dot(output_delta) * self.learning_rate\n",
    "            self.bias_output += np.sum(output_delta, axis=0, keepdims=True) * self.learning_rate\n",
    "            self.weights_input_hidden += X.T.dot(hidden_layer_delta) * self.learning_rate\n",
    "            self.bias_hidden += np.sum(hidden_layer_delta, axis=0, keepdims=True) * self.learning_rate\n",
    "        return losses"
   ]
  },
  {
   "cell_type": "markdown",
   "id": "5dbd0351",
   "metadata": {},
   "source": [
    "### Creating Dataframe for 7 segment LED panel for digital numbers"
   ]
  },
  {
   "cell_type": "code",
   "execution_count": 5,
   "id": "e29f8d62",
   "metadata": {},
   "outputs": [],
   "source": [
    "import pandas as pd"
   ]
  },
  {
   "cell_type": "code",
   "execution_count": 6,
   "id": "9406bf2e",
   "metadata": {},
   "outputs": [],
   "source": [
    "X = [[] for _ in range(128)]\n",
    "for a in range(0,128):\n",
    "    val=a\n",
    "    if val>=64:\n",
    "        X[a].append(1)\n",
    "        val -= 64\n",
    "    else:\n",
    "        X[a].append(0)\n",
    "    if val>=32:\n",
    "        X[a].append(1)\n",
    "        val -= 32\n",
    "    else:\n",
    "        X[a].append(0)\n",
    "    if val>=16:\n",
    "        X[a].append(1)\n",
    "        val -= 16\n",
    "    else:\n",
    "        X[a].append(0)\n",
    "    if val>=8:\n",
    "        X[a].append(1)\n",
    "        val -= 8\n",
    "    else:\n",
    "        X[a].append(0)\n",
    "    if val>=4:\n",
    "        X[a].append(1)\n",
    "        val -= 4\n",
    "    else:\n",
    "        X[a].append(0)\n",
    "    if val>=2:\n",
    "        X[a].append(1)\n",
    "        val -= 2\n",
    "    else:\n",
    "        X[a].append(0)\n",
    "    if val>=1:\n",
    "        X[a].append(1)\n",
    "        val -= 1\n",
    "    else:\n",
    "        X[a].append(0)"
   ]
  },
  {
   "cell_type": "code",
   "execution_count": 7,
   "id": "278389d5",
   "metadata": {},
   "outputs": [],
   "source": [
    "Y = [[] for _ in range(128)]\n",
    "for a in range(128):\n",
    "    if a==126 or a==48 or a==109 or a==121 or a==51 or a==91 or a==31 or a==112 or a==127 or a==115:\n",
    "        Y[a]=[1]\n",
    "    else:\n",
    "        Y[a]=[0]"
   ]
  },
  {
   "cell_type": "code",
   "execution_count": 8,
   "id": "1a5c4c52",
   "metadata": {},
   "outputs": [],
   "source": [
    "df = pd.DataFrame()"
   ]
  },
  {
   "cell_type": "code",
   "execution_count": 9,
   "id": "a3b01ba9",
   "metadata": {},
   "outputs": [],
   "source": [
    "df['Segment code']=X"
   ]
  },
  {
   "cell_type": "code",
   "execution_count": 10,
   "id": "5ca78882",
   "metadata": {},
   "outputs": [],
   "source": [
    "df['Valid digit']=Y"
   ]
  },
  {
   "cell_type": "code",
   "execution_count": 11,
   "id": "33f9fe18",
   "metadata": {},
   "outputs": [
    {
     "data": {
      "text/html": [
       "<div>\n",
       "<style scoped>\n",
       "    .dataframe tbody tr th:only-of-type {\n",
       "        vertical-align: middle;\n",
       "    }\n",
       "\n",
       "    .dataframe tbody tr th {\n",
       "        vertical-align: top;\n",
       "    }\n",
       "\n",
       "    .dataframe thead th {\n",
       "        text-align: right;\n",
       "    }\n",
       "</style>\n",
       "<table border=\"1\" class=\"dataframe\">\n",
       "  <thead>\n",
       "    <tr style=\"text-align: right;\">\n",
       "      <th></th>\n",
       "      <th>Segment code</th>\n",
       "      <th>Valid digit</th>\n",
       "    </tr>\n",
       "  </thead>\n",
       "  <tbody>\n",
       "    <tr>\n",
       "      <th>0</th>\n",
       "      <td>[0, 0, 0, 0, 0, 0, 0]</td>\n",
       "      <td>[0]</td>\n",
       "    </tr>\n",
       "    <tr>\n",
       "      <th>1</th>\n",
       "      <td>[0, 0, 0, 0, 0, 0, 1]</td>\n",
       "      <td>[0]</td>\n",
       "    </tr>\n",
       "    <tr>\n",
       "      <th>2</th>\n",
       "      <td>[0, 0, 0, 0, 0, 1, 0]</td>\n",
       "      <td>[0]</td>\n",
       "    </tr>\n",
       "    <tr>\n",
       "      <th>3</th>\n",
       "      <td>[0, 0, 0, 0, 0, 1, 1]</td>\n",
       "      <td>[0]</td>\n",
       "    </tr>\n",
       "    <tr>\n",
       "      <th>4</th>\n",
       "      <td>[0, 0, 0, 0, 1, 0, 0]</td>\n",
       "      <td>[0]</td>\n",
       "    </tr>\n",
       "    <tr>\n",
       "      <th>...</th>\n",
       "      <td>...</td>\n",
       "      <td>...</td>\n",
       "    </tr>\n",
       "    <tr>\n",
       "      <th>123</th>\n",
       "      <td>[1, 1, 1, 1, 0, 1, 1]</td>\n",
       "      <td>[0]</td>\n",
       "    </tr>\n",
       "    <tr>\n",
       "      <th>124</th>\n",
       "      <td>[1, 1, 1, 1, 1, 0, 0]</td>\n",
       "      <td>[0]</td>\n",
       "    </tr>\n",
       "    <tr>\n",
       "      <th>125</th>\n",
       "      <td>[1, 1, 1, 1, 1, 0, 1]</td>\n",
       "      <td>[0]</td>\n",
       "    </tr>\n",
       "    <tr>\n",
       "      <th>126</th>\n",
       "      <td>[1, 1, 1, 1, 1, 1, 0]</td>\n",
       "      <td>[1]</td>\n",
       "    </tr>\n",
       "    <tr>\n",
       "      <th>127</th>\n",
       "      <td>[1, 1, 1, 1, 1, 1, 1]</td>\n",
       "      <td>[1]</td>\n",
       "    </tr>\n",
       "  </tbody>\n",
       "</table>\n",
       "<p>128 rows × 2 columns</p>\n",
       "</div>"
      ],
      "text/plain": [
       "              Segment code Valid digit\n",
       "0    [0, 0, 0, 0, 0, 0, 0]         [0]\n",
       "1    [0, 0, 0, 0, 0, 0, 1]         [0]\n",
       "2    [0, 0, 0, 0, 0, 1, 0]         [0]\n",
       "3    [0, 0, 0, 0, 0, 1, 1]         [0]\n",
       "4    [0, 0, 0, 0, 1, 0, 0]         [0]\n",
       "..                     ...         ...\n",
       "123  [1, 1, 1, 1, 0, 1, 1]         [0]\n",
       "124  [1, 1, 1, 1, 1, 0, 0]         [0]\n",
       "125  [1, 1, 1, 1, 1, 0, 1]         [0]\n",
       "126  [1, 1, 1, 1, 1, 1, 0]         [1]\n",
       "127  [1, 1, 1, 1, 1, 1, 1]         [1]\n",
       "\n",
       "[128 rows x 2 columns]"
      ]
     },
     "execution_count": 11,
     "metadata": {},
     "output_type": "execute_result"
    }
   ],
   "source": [
    "df"
   ]
  },
  {
   "cell_type": "code",
   "execution_count": 12,
   "id": "04aac6d0",
   "metadata": {},
   "outputs": [
    {
     "data": {
      "text/plain": [
       "[0]    118\n",
       "[1]     10\n",
       "Name: Valid digit, dtype: int64"
      ]
     },
     "execution_count": 12,
     "metadata": {},
     "output_type": "execute_result"
    }
   ],
   "source": [
    "df['Valid digit'].value_counts()"
   ]
  },
  {
   "cell_type": "code",
   "execution_count": 13,
   "id": "5389d17b",
   "metadata": {},
   "outputs": [],
   "source": [
    "df2 = df.copy()"
   ]
  },
  {
   "cell_type": "code",
   "execution_count": 14,
   "id": "35c47917",
   "metadata": {},
   "outputs": [],
   "source": [
    "digits = [126, 48, 109, 121, 51, 91, 31, 112, 127, 115]\n",
    "for i in range(128,228):\n",
    "    df2.loc[i] = df2.loc[digits[i%10]]"
   ]
  },
  {
   "cell_type": "code",
   "execution_count": 15,
   "id": "4b491daa",
   "metadata": {},
   "outputs": [
    {
     "data": {
      "text/html": [
       "<div>\n",
       "<style scoped>\n",
       "    .dataframe tbody tr th:only-of-type {\n",
       "        vertical-align: middle;\n",
       "    }\n",
       "\n",
       "    .dataframe tbody tr th {\n",
       "        vertical-align: top;\n",
       "    }\n",
       "\n",
       "    .dataframe thead th {\n",
       "        text-align: right;\n",
       "    }\n",
       "</style>\n",
       "<table border=\"1\" class=\"dataframe\">\n",
       "  <thead>\n",
       "    <tr style=\"text-align: right;\">\n",
       "      <th></th>\n",
       "      <th>Segment code</th>\n",
       "      <th>Valid digit</th>\n",
       "    </tr>\n",
       "  </thead>\n",
       "  <tbody>\n",
       "    <tr>\n",
       "      <th>0</th>\n",
       "      <td>[0, 0, 0, 0, 0, 0, 0]</td>\n",
       "      <td>[0]</td>\n",
       "    </tr>\n",
       "    <tr>\n",
       "      <th>1</th>\n",
       "      <td>[0, 0, 0, 0, 0, 0, 1]</td>\n",
       "      <td>[0]</td>\n",
       "    </tr>\n",
       "    <tr>\n",
       "      <th>2</th>\n",
       "      <td>[0, 0, 0, 0, 0, 1, 0]</td>\n",
       "      <td>[0]</td>\n",
       "    </tr>\n",
       "    <tr>\n",
       "      <th>3</th>\n",
       "      <td>[0, 0, 0, 0, 0, 1, 1]</td>\n",
       "      <td>[0]</td>\n",
       "    </tr>\n",
       "    <tr>\n",
       "      <th>4</th>\n",
       "      <td>[0, 0, 0, 0, 1, 0, 0]</td>\n",
       "      <td>[0]</td>\n",
       "    </tr>\n",
       "    <tr>\n",
       "      <th>...</th>\n",
       "      <td>...</td>\n",
       "      <td>...</td>\n",
       "    </tr>\n",
       "    <tr>\n",
       "      <th>223</th>\n",
       "      <td>[1, 1, 1, 1, 0, 0, 1]</td>\n",
       "      <td>[1]</td>\n",
       "    </tr>\n",
       "    <tr>\n",
       "      <th>224</th>\n",
       "      <td>[0, 1, 1, 0, 0, 1, 1]</td>\n",
       "      <td>[1]</td>\n",
       "    </tr>\n",
       "    <tr>\n",
       "      <th>225</th>\n",
       "      <td>[1, 0, 1, 1, 0, 1, 1]</td>\n",
       "      <td>[1]</td>\n",
       "    </tr>\n",
       "    <tr>\n",
       "      <th>226</th>\n",
       "      <td>[0, 0, 1, 1, 1, 1, 1]</td>\n",
       "      <td>[1]</td>\n",
       "    </tr>\n",
       "    <tr>\n",
       "      <th>227</th>\n",
       "      <td>[1, 1, 1, 0, 0, 0, 0]</td>\n",
       "      <td>[1]</td>\n",
       "    </tr>\n",
       "  </tbody>\n",
       "</table>\n",
       "<p>228 rows × 2 columns</p>\n",
       "</div>"
      ],
      "text/plain": [
       "              Segment code Valid digit\n",
       "0    [0, 0, 0, 0, 0, 0, 0]         [0]\n",
       "1    [0, 0, 0, 0, 0, 0, 1]         [0]\n",
       "2    [0, 0, 0, 0, 0, 1, 0]         [0]\n",
       "3    [0, 0, 0, 0, 0, 1, 1]         [0]\n",
       "4    [0, 0, 0, 0, 1, 0, 0]         [0]\n",
       "..                     ...         ...\n",
       "223  [1, 1, 1, 1, 0, 0, 1]         [1]\n",
       "224  [0, 1, 1, 0, 0, 1, 1]         [1]\n",
       "225  [1, 0, 1, 1, 0, 1, 1]         [1]\n",
       "226  [0, 0, 1, 1, 1, 1, 1]         [1]\n",
       "227  [1, 1, 1, 0, 0, 0, 0]         [1]\n",
       "\n",
       "[228 rows x 2 columns]"
      ]
     },
     "execution_count": 15,
     "metadata": {},
     "output_type": "execute_result"
    }
   ],
   "source": [
    "df2"
   ]
  },
  {
   "cell_type": "code",
   "execution_count": 16,
   "id": "c6cb2703",
   "metadata": {},
   "outputs": [
    {
     "data": {
      "text/plain": [
       "[0]    118\n",
       "[1]    110\n",
       "Name: Valid digit, dtype: int64"
      ]
     },
     "execution_count": 16,
     "metadata": {},
     "output_type": "execute_result"
    }
   ],
   "source": [
    "df2['Valid digit'].value_counts()"
   ]
  },
  {
   "cell_type": "code",
   "execution_count": 17,
   "id": "4cbd2cae",
   "metadata": {},
   "outputs": [],
   "source": [
    "df2 = df2.sample(frac=1, random_state=1).reset_index()"
   ]
  },
  {
   "cell_type": "code",
   "execution_count": 18,
   "id": "21c70eba",
   "metadata": {},
   "outputs": [],
   "source": [
    "df2.drop(columns=\"index\", inplace=True)"
   ]
  },
  {
   "cell_type": "code",
   "execution_count": 19,
   "id": "44baa67d",
   "metadata": {},
   "outputs": [
    {
     "data": {
      "text/html": [
       "<div>\n",
       "<style scoped>\n",
       "    .dataframe tbody tr th:only-of-type {\n",
       "        vertical-align: middle;\n",
       "    }\n",
       "\n",
       "    .dataframe tbody tr th {\n",
       "        vertical-align: top;\n",
       "    }\n",
       "\n",
       "    .dataframe thead th {\n",
       "        text-align: right;\n",
       "    }\n",
       "</style>\n",
       "<table border=\"1\" class=\"dataframe\">\n",
       "  <thead>\n",
       "    <tr style=\"text-align: right;\">\n",
       "      <th></th>\n",
       "      <th>Segment code</th>\n",
       "      <th>Valid digit</th>\n",
       "    </tr>\n",
       "  </thead>\n",
       "  <tbody>\n",
       "    <tr>\n",
       "      <th>0</th>\n",
       "      <td>[0, 1, 0, 0, 1, 1, 1]</td>\n",
       "      <td>[0]</td>\n",
       "    </tr>\n",
       "    <tr>\n",
       "      <th>1</th>\n",
       "      <td>[1, 1, 1, 0, 0, 1, 1]</td>\n",
       "      <td>[1]</td>\n",
       "    </tr>\n",
       "    <tr>\n",
       "      <th>2</th>\n",
       "      <td>[1, 0, 1, 1, 1, 0, 1]</td>\n",
       "      <td>[0]</td>\n",
       "    </tr>\n",
       "    <tr>\n",
       "      <th>3</th>\n",
       "      <td>[0, 1, 1, 1, 1, 1, 0]</td>\n",
       "      <td>[0]</td>\n",
       "    </tr>\n",
       "    <tr>\n",
       "      <th>4</th>\n",
       "      <td>[1, 1, 1, 1, 1, 1, 1]</td>\n",
       "      <td>[1]</td>\n",
       "    </tr>\n",
       "    <tr>\n",
       "      <th>...</th>\n",
       "      <td>...</td>\n",
       "      <td>...</td>\n",
       "    </tr>\n",
       "    <tr>\n",
       "      <th>223</th>\n",
       "      <td>[1, 1, 1, 1, 0, 0, 1]</td>\n",
       "      <td>[1]</td>\n",
       "    </tr>\n",
       "    <tr>\n",
       "      <th>224</th>\n",
       "      <td>[1, 1, 1, 0, 0, 0, 0]</td>\n",
       "      <td>[1]</td>\n",
       "    </tr>\n",
       "    <tr>\n",
       "      <th>225</th>\n",
       "      <td>[1, 0, 0, 1, 0, 0, 0]</td>\n",
       "      <td>[0]</td>\n",
       "    </tr>\n",
       "    <tr>\n",
       "      <th>226</th>\n",
       "      <td>[1, 1, 1, 1, 1, 1, 0]</td>\n",
       "      <td>[1]</td>\n",
       "    </tr>\n",
       "    <tr>\n",
       "      <th>227</th>\n",
       "      <td>[0, 1, 0, 0, 1, 0, 1]</td>\n",
       "      <td>[0]</td>\n",
       "    </tr>\n",
       "  </tbody>\n",
       "</table>\n",
       "<p>228 rows × 2 columns</p>\n",
       "</div>"
      ],
      "text/plain": [
       "              Segment code Valid digit\n",
       "0    [0, 1, 0, 0, 1, 1, 1]         [0]\n",
       "1    [1, 1, 1, 0, 0, 1, 1]         [1]\n",
       "2    [1, 0, 1, 1, 1, 0, 1]         [0]\n",
       "3    [0, 1, 1, 1, 1, 1, 0]         [0]\n",
       "4    [1, 1, 1, 1, 1, 1, 1]         [1]\n",
       "..                     ...         ...\n",
       "223  [1, 1, 1, 1, 0, 0, 1]         [1]\n",
       "224  [1, 1, 1, 0, 0, 0, 0]         [1]\n",
       "225  [1, 0, 0, 1, 0, 0, 0]         [0]\n",
       "226  [1, 1, 1, 1, 1, 1, 0]         [1]\n",
       "227  [0, 1, 0, 0, 1, 0, 1]         [0]\n",
       "\n",
       "[228 rows x 2 columns]"
      ]
     },
     "execution_count": 19,
     "metadata": {},
     "output_type": "execute_result"
    }
   ],
   "source": [
    "df2"
   ]
  },
  {
   "cell_type": "code",
   "execution_count": 20,
   "id": "53f49106",
   "metadata": {},
   "outputs": [],
   "source": [
    "### Training and Testing"
   ]
  },
  {
   "cell_type": "code",
   "execution_count": 21,
   "id": "e5363e7d",
   "metadata": {},
   "outputs": [],
   "source": [
    "X = np.array(list(df2['Segment code']))\n",
    "Y = np.array(list(df2['Valid digit']))"
   ]
  },
  {
   "cell_type": "code",
   "execution_count": 22,
   "id": "8aca00b5",
   "metadata": {},
   "outputs": [],
   "source": [
    "input_size = (X).shape[1]\n",
    "hidden_size = 2\n",
    "output_size = 1\n",
    "learning_rate = 0.01\n",
    "epochs = 10000"
   ]
  },
  {
   "cell_type": "code",
   "execution_count": 23,
   "id": "64042f53",
   "metadata": {},
   "outputs": [],
   "source": [
    "nn = NeuralNetwork(input_size, hidden_size, output_size, learning_rate)\n",
    "losses = nn.train(X, Y, epochs)"
   ]
  },
  {
   "cell_type": "code",
   "execution_count": 24,
   "id": "a1fbf693",
   "metadata": {},
   "outputs": [
    {
     "data": {
      "image/png": "[encoded data removed]",
      "text/plain": [
       "<Figure size 640x480 with 1 Axes>"
      ]
     },
     "metadata": {},
     "output_type": "display_data"
    }
   ],
   "source": [
    "plt.plot(range(epochs), losses)\n",
    "plt.xlabel('Epochs')\n",
    "plt.ylabel('Loss')\n",
    "plt.show()"
   ]
  },
  {
   "cell_type": "code",
   "execution_count": 25,
   "id": "b109f548",
   "metadata": {},
   "outputs": [],
   "source": [
    "from sklearn.metrics import confusion_matrix, accuracy_score, precision_score, recall_score, f1_score"
   ]
  },
  {
   "cell_type": "code",
   "execution_count": 26,
   "id": "87fbd505",
   "metadata": {},
   "outputs": [],
   "source": [
    "from sklearn.model_selection import KFold"
   ]
  },
  {
   "cell_type": "code",
   "execution_count": 27,
   "id": "825056a8",
   "metadata": {},
   "outputs": [],
   "source": [
    "input_size = X.shape[1]\n",
    "hidden_size = 2\n",
    "output_size = 1\n",
    "learning_rate = 0.01\n",
    "epochs = 10000\n",
    "k_folds = 5"
   ]
  },
  {
   "cell_type": "code",
   "execution_count": 28,
   "id": "c55cdff7",
   "metadata": {},
   "outputs": [],
   "source": [
    "accuracy_scores = []\n",
    "specificity_scores = []\n",
    "sensitivity_scores = []\n",
    "precision_scores = []\n",
    "recall_scores = []\n",
    "f1_scores = []"
   ]
  },
  {
   "cell_type": "code",
   "execution_count": 29,
   "id": "99a087a7",
   "metadata": {},
   "outputs": [],
   "source": [
    "kf = KFold(n_splits=k_folds, shuffle=False)"
   ]
  },
  {
   "cell_type": "code",
   "execution_count": 30,
   "id": "10e9dc83",
   "metadata": {},
   "outputs": [],
   "source": [
    "for train_index, val_index in kf.split(X):\n",
    "    X_train, X_val = X[train_index], X[val_index]\n",
    "    y_train, y_val = Y[train_index], Y[val_index]\n",
    "    \n",
    "    nn = NeuralNetwork(input_size, hidden_size, output_size, learning_rate)\n",
    "    losses = nn.train(X_train, y_train, epochs)\n",
    "    \n",
    "    hidden_layer_input = np.dot(X_val, nn.weights_input_hidden) + nn.bias_hidden\n",
    "    hidden_layer_output = sigmoid(hidden_layer_input)\n",
    "    output_layer_input = np.dot(hidden_layer_output, nn.weights_hidden_output) + nn.bias_output\n",
    "    output_layer_output = sigmoid(output_layer_input)\n",
    "    \n",
    "    predictions = (output_layer_output >= 0.5).astype(int)\n",
    "    \n",
    "    accuracy = accuracy_score(y_val, predictions)\n",
    "    \n",
    "    tn,fp,fn,tp = confusion_matrix(y_val,predictions).ravel()\n",
    "    \n",
    "    if tn+fp==0:\n",
    "        specificity = 1\n",
    "    else:\n",
    "        specificity = tn / (tn + fp)\n",
    "        \n",
    "    if tp+fn==0:\n",
    "        sensitivity = 1\n",
    "    else:\n",
    "        sensitivity = tp / (tp + fn)\n",
    "        \n",
    "    precision = precision_score(y_val, predictions)\n",
    "    recall = recall_score(y_val, predictions)\n",
    "    f1 = f1_score(y_val, predictions)\n",
    "    \n",
    "    accuracy_scores.append(accuracy)\n",
    "    specificity_scores.append(specificity)\n",
    "    sensitivity_scores.append(sensitivity)\n",
    "    precision_scores.append(precision)\n",
    "    recall_scores.append(recall)\n",
    "    f1_scores.append(f1)"
   ]
  },
  {
   "cell_type": "code",
   "execution_count": 31,
   "id": "06b7f5b4",
   "metadata": {},
   "outputs": [
    {
     "name": "stdout",
     "output_type": "stream",
     "text": [
      "Average Accuracy: 0.8684057971014493\n",
      "Average Specificity: 0.7859259259259259\n",
      "Average Sensitivity: 0.9578947368421054\n",
      "Average Precision: 0.792902097902098\n",
      "Average Recall: 0.9578947368421054\n",
      "Average F1 Score: 0.8658401563005824\n"
     ]
    }
   ],
   "source": [
    "avg_accuracy = np.mean(accuracy_scores)\n",
    "avg_specificity = np.mean(specificity_scores)\n",
    "avg_sensitivity = np.mean(sensitivity_scores)\n",
    "avg_precision = np.mean(precision_scores)\n",
    "avg_recall = np.mean(recall_scores)\n",
    "avg_f1 = np.mean(f1_scores)\n",
    "\n",
    "print(f\"Average Accuracy: {avg_accuracy}\")\n",
    "print(f\"Average Specificity: {avg_specificity}\")\n",
    "print(f\"Average Sensitivity: {avg_sensitivity}\")\n",
    "print(f\"Average Precision: {avg_precision}\")\n",
    "print(f\"Average Recall: {avg_recall}\")\n",
    "print(f\"Average F1 Score: {avg_f1}\")"
   ]
  },
  {
   "cell_type": "markdown",
   "id": "5212ccb9",
   "metadata": {},
   "source": [
    "##### Multiple class classification"
   ]
  },
  {
   "cell_type": "code",
   "execution_count": 32,
   "id": "09d35210",
   "metadata": {},
   "outputs": [],
   "source": [
    "df3 = df.copy()"
   ]
  },
  {
   "cell_type": "code",
   "execution_count": 33,
   "id": "e183f572",
   "metadata": {},
   "outputs": [],
   "source": [
    "df3['Digit'] = df3['Valid digit']\n",
    "df3.drop(columns=\"Valid digit\", inplace=True)"
   ]
  },
  {
   "cell_type": "code",
   "execution_count": 34,
   "id": "15c20366",
   "metadata": {},
   "outputs": [],
   "source": [
    "df3['Digit'].iloc[126]=[1,0,0,0,0,0,0,0,0,0]\n",
    "df3['Digit'].iloc[48]=[0,1,0,0,0,0,0,0,0,0]\n",
    "df3['Digit'].iloc[109]=[0,0,1,0,0,0,0,0,0,0]\n",
    "df3['Digit'].iloc[121]=[0,0,0,1,0,0,0,0,0,0]\n",
    "df3['Digit'].iloc[51]=[0,0,0,0,1,0,0,0,0,0]\n",
    "df3['Digit'].iloc[91]=[0,0,0,0,0,1,0,0,0,0]\n",
    "df3['Digit'].iloc[31]=[0,0,0,0,0,0,1,0,0,0]\n",
    "df3['Digit'].iloc[112]=[0,0,0,0,0,0,0,1,0,0]\n",
    "df3['Digit'].iloc[127]=[0,0,0,0,0,0,0,0,1,0]\n",
    "df3['Digit'].iloc[115]=[0,0,0,0,0,0,0,0,0,1]\n",
    "for n in range(df3['Digit'].shape[0]):\n",
    "    if n!=126 and n!=48 and n!=109 and n!=121 and n!=51 and n!=91 and n!=31 and n!=112 and n!=127 and n!=115:\n",
    "        df3['Digit'].iloc[n]=[0,0,0,0,0,0,0,0,0,0]"
   ]
  },
  {
   "cell_type": "code",
   "execution_count": 35,
   "id": "77455aa8",
   "metadata": {},
   "outputs": [
    {
     "data": {
      "text/html": [
       "<div>\n",
       "<style scoped>\n",
       "    .dataframe tbody tr th:only-of-type {\n",
       "        vertical-align: middle;\n",
       "    }\n",
       "\n",
       "    .dataframe tbody tr th {\n",
       "        vertical-align: top;\n",
       "    }\n",
       "\n",
       "    .dataframe thead th {\n",
       "        text-align: right;\n",
       "    }\n",
       "</style>\n",
       "<table border=\"1\" class=\"dataframe\">\n",
       "  <thead>\n",
       "    <tr style=\"text-align: right;\">\n",
       "      <th></th>\n",
       "      <th>Segment code</th>\n",
       "      <th>Digit</th>\n",
       "    </tr>\n",
       "  </thead>\n",
       "  <tbody>\n",
       "    <tr>\n",
       "      <th>0</th>\n",
       "      <td>[0, 0, 0, 0, 0, 0, 0]</td>\n",
       "      <td>[0, 0, 0, 0, 0, 0, 0, 0, 0, 0]</td>\n",
       "    </tr>\n",
       "    <tr>\n",
       "      <th>1</th>\n",
       "      <td>[0, 0, 0, 0, 0, 0, 1]</td>\n",
       "      <td>[0, 0, 0, 0, 0, 0, 0, 0, 0, 0]</td>\n",
       "    </tr>\n",
       "    <tr>\n",
       "      <th>2</th>\n",
       "      <td>[0, 0, 0, 0, 0, 1, 0]</td>\n",
       "      <td>[0, 0, 0, 0, 0, 0, 0, 0, 0, 0]</td>\n",
       "    </tr>\n",
       "    <tr>\n",
       "      <th>3</th>\n",
       "      <td>[0, 0, 0, 0, 0, 1, 1]</td>\n",
       "      <td>[0, 0, 0, 0, 0, 0, 0, 0, 0, 0]</td>\n",
       "    </tr>\n",
       "    <tr>\n",
       "      <th>4</th>\n",
       "      <td>[0, 0, 0, 0, 1, 0, 0]</td>\n",
       "      <td>[0, 0, 0, 0, 0, 0, 0, 0, 0, 0]</td>\n",
       "    </tr>\n",
       "    <tr>\n",
       "      <th>...</th>\n",
       "      <td>...</td>\n",
       "      <td>...</td>\n",
       "    </tr>\n",
       "    <tr>\n",
       "      <th>123</th>\n",
       "      <td>[1, 1, 1, 1, 0, 1, 1]</td>\n",
       "      <td>[0, 0, 0, 0, 0, 0, 0, 0, 0, 0]</td>\n",
       "    </tr>\n",
       "    <tr>\n",
       "      <th>124</th>\n",
       "      <td>[1, 1, 1, 1, 1, 0, 0]</td>\n",
       "      <td>[0, 0, 0, 0, 0, 0, 0, 0, 0, 0]</td>\n",
       "    </tr>\n",
       "    <tr>\n",
       "      <th>125</th>\n",
       "      <td>[1, 1, 1, 1, 1, 0, 1]</td>\n",
       "      <td>[0, 0, 0, 0, 0, 0, 0, 0, 0, 0]</td>\n",
       "    </tr>\n",
       "    <tr>\n",
       "      <th>126</th>\n",
       "      <td>[1, 1, 1, 1, 1, 1, 0]</td>\n",
       "      <td>[1, 0, 0, 0, 0, 0, 0, 0, 0, 0]</td>\n",
       "    </tr>\n",
       "    <tr>\n",
       "      <th>127</th>\n",
       "      <td>[1, 1, 1, 1, 1, 1, 1]</td>\n",
       "      <td>[0, 0, 0, 0, 0, 0, 0, 0, 1, 0]</td>\n",
       "    </tr>\n",
       "  </tbody>\n",
       "</table>\n",
       "<p>128 rows × 2 columns</p>\n",
       "</div>"
      ],
      "text/plain": [
       "              Segment code                           Digit\n",
       "0    [0, 0, 0, 0, 0, 0, 0]  [0, 0, 0, 0, 0, 0, 0, 0, 0, 0]\n",
       "1    [0, 0, 0, 0, 0, 0, 1]  [0, 0, 0, 0, 0, 0, 0, 0, 0, 0]\n",
       "2    [0, 0, 0, 0, 0, 1, 0]  [0, 0, 0, 0, 0, 0, 0, 0, 0, 0]\n",
       "3    [0, 0, 0, 0, 0, 1, 1]  [0, 0, 0, 0, 0, 0, 0, 0, 0, 0]\n",
       "4    [0, 0, 0, 0, 1, 0, 0]  [0, 0, 0, 0, 0, 0, 0, 0, 0, 0]\n",
       "..                     ...                             ...\n",
       "123  [1, 1, 1, 1, 0, 1, 1]  [0, 0, 0, 0, 0, 0, 0, 0, 0, 0]\n",
       "124  [1, 1, 1, 1, 1, 0, 0]  [0, 0, 0, 0, 0, 0, 0, 0, 0, 0]\n",
       "125  [1, 1, 1, 1, 1, 0, 1]  [0, 0, 0, 0, 0, 0, 0, 0, 0, 0]\n",
       "126  [1, 1, 1, 1, 1, 1, 0]  [1, 0, 0, 0, 0, 0, 0, 0, 0, 0]\n",
       "127  [1, 1, 1, 1, 1, 1, 1]  [0, 0, 0, 0, 0, 0, 0, 0, 1, 0]\n",
       "\n",
       "[128 rows x 2 columns]"
      ]
     },
     "execution_count": 35,
     "metadata": {},
     "output_type": "execute_result"
    }
   ],
   "source": [
    "df3"
   ]
  },
  {
   "cell_type": "code",
   "execution_count": 36,
   "id": "1b895862",
   "metadata": {},
   "outputs": [],
   "source": [
    "A = np.array(list(df3['Segment code']))\n",
    "B = np.array(list(df3['Digit']))"
   ]
  },
  {
   "cell_type": "code",
   "execution_count": 37,
   "id": "3b531323",
   "metadata": {},
   "outputs": [],
   "source": [
    "input_size = (A).shape[1]\n",
    "hidden_size = 2\n",
    "output_size = (B).shape[1]\n",
    "learning_rate = 0.01\n",
    "epochs = 10000"
   ]
  },
  {
   "cell_type": "code",
   "execution_count": 38,
   "id": "ea10d5b5",
   "metadata": {},
   "outputs": [],
   "source": [
    "nn = NeuralNetwork(input_size, hidden_size, output_size, learning_rate)\n",
    "losses = nn.train(A, B, epochs)"
   ]
  },
  {
   "cell_type": "code",
   "execution_count": 39,
   "id": "664157e2",
   "metadata": {},
   "outputs": [
    {
     "data": {
      "image/png": "[encoded data removed]",
      "text/plain": [
       "<Figure size 640x480 with 1 Axes>"
      ]
     },
     "metadata": {},
     "output_type": "display_data"
    }
   ],
   "source": [
    "plt.plot(range(epochs), losses)\n",
    "plt.xlabel('Epochs')\n",
    "plt.ylabel('Loss')\n",
    "plt.show()"
   ]
  },
  {
   "cell_type": "code",
   "execution_count": 40,
   "id": "1297a5cb",
   "metadata": {},
   "outputs": [],
   "source": [
    "df4 = df3.copy()"
   ]
  },
  {
   "cell_type": "code",
   "execution_count": 41,
   "id": "3bda5be0",
   "metadata": {},
   "outputs": [],
   "source": [
    "digits = [126, 48, 109, 121, 51, 91, 31, 112, 127, 115]\n",
    "for i in range(128,428):\n",
    "    df4.loc[i] = df4.loc[digits[i%10]]"
   ]
  },
  {
   "cell_type": "code",
   "execution_count": 42,
   "id": "0005b134",
   "metadata": {},
   "outputs": [],
   "source": [
    "df4 = df4.sample(frac=1, random_state=1).reset_index()\n",
    "df4.drop(columns=\"index\", inplace=True)"
   ]
  },
  {
   "cell_type": "code",
   "execution_count": 43,
   "id": "5884df89",
   "metadata": {},
   "outputs": [
    {
     "data": {
      "text/html": [
       "<div>\n",
       "<style scoped>\n",
       "    .dataframe tbody tr th:only-of-type {\n",
       "        vertical-align: middle;\n",
       "    }\n",
       "\n",
       "    .dataframe tbody tr th {\n",
       "        vertical-align: top;\n",
       "    }\n",
       "\n",
       "    .dataframe thead th {\n",
       "        text-align: right;\n",
       "    }\n",
       "</style>\n",
       "<table border=\"1\" class=\"dataframe\">\n",
       "  <thead>\n",
       "    <tr style=\"text-align: right;\">\n",
       "      <th></th>\n",
       "      <th>Segment code</th>\n",
       "      <th>Digit</th>\n",
       "    </tr>\n",
       "  </thead>\n",
       "  <tbody>\n",
       "    <tr>\n",
       "      <th>0</th>\n",
       "      <td>[1, 1, 1, 0, 0, 0, 0]</td>\n",
       "      <td>[0, 0, 0, 0, 0, 0, 0, 1, 0, 0]</td>\n",
       "    </tr>\n",
       "    <tr>\n",
       "      <th>1</th>\n",
       "      <td>[1, 1, 1, 1, 1, 1, 1]</td>\n",
       "      <td>[0, 0, 0, 0, 0, 0, 0, 0, 1, 0]</td>\n",
       "    </tr>\n",
       "    <tr>\n",
       "      <th>2</th>\n",
       "      <td>[0, 1, 1, 0, 0, 1, 1]</td>\n",
       "      <td>[0, 0, 0, 0, 1, 0, 0, 0, 0, 0]</td>\n",
       "    </tr>\n",
       "    <tr>\n",
       "      <th>3</th>\n",
       "      <td>[1, 1, 1, 0, 0, 0, 0]</td>\n",
       "      <td>[0, 0, 0, 0, 0, 0, 0, 1, 0, 0]</td>\n",
       "    </tr>\n",
       "    <tr>\n",
       "      <th>4</th>\n",
       "      <td>[0, 1, 1, 1, 1, 1, 0]</td>\n",
       "      <td>[0, 0, 0, 0, 0, 0, 0, 0, 0, 0]</td>\n",
       "    </tr>\n",
       "    <tr>\n",
       "      <th>...</th>\n",
       "      <td>...</td>\n",
       "      <td>...</td>\n",
       "    </tr>\n",
       "    <tr>\n",
       "      <th>423</th>\n",
       "      <td>[1, 0, 1, 1, 0, 1, 1]</td>\n",
       "      <td>[0, 0, 0, 0, 0, 1, 0, 0, 0, 0]</td>\n",
       "    </tr>\n",
       "    <tr>\n",
       "      <th>424</th>\n",
       "      <td>[1, 0, 0, 1, 0, 0, 0]</td>\n",
       "      <td>[0, 0, 0, 0, 0, 0, 0, 0, 0, 0]</td>\n",
       "    </tr>\n",
       "    <tr>\n",
       "      <th>425</th>\n",
       "      <td>[0, 0, 1, 1, 1, 1, 1]</td>\n",
       "      <td>[0, 0, 0, 0, 0, 0, 1, 0, 0, 0]</td>\n",
       "    </tr>\n",
       "    <tr>\n",
       "      <th>426</th>\n",
       "      <td>[1, 0, 1, 1, 0, 1, 1]</td>\n",
       "      <td>[0, 0, 0, 0, 0, 1, 0, 0, 0, 0]</td>\n",
       "    </tr>\n",
       "    <tr>\n",
       "      <th>427</th>\n",
       "      <td>[0, 1, 0, 0, 1, 0, 1]</td>\n",
       "      <td>[0, 0, 0, 0, 0, 0, 0, 0, 0, 0]</td>\n",
       "    </tr>\n",
       "  </tbody>\n",
       "</table>\n",
       "<p>428 rows × 2 columns</p>\n",
       "</div>"
      ],
      "text/plain": [
       "              Segment code                           Digit\n",
       "0    [1, 1, 1, 0, 0, 0, 0]  [0, 0, 0, 0, 0, 0, 0, 1, 0, 0]\n",
       "1    [1, 1, 1, 1, 1, 1, 1]  [0, 0, 0, 0, 0, 0, 0, 0, 1, 0]\n",
       "2    [0, 1, 1, 0, 0, 1, 1]  [0, 0, 0, 0, 1, 0, 0, 0, 0, 0]\n",
       "3    [1, 1, 1, 0, 0, 0, 0]  [0, 0, 0, 0, 0, 0, 0, 1, 0, 0]\n",
       "4    [0, 1, 1, 1, 1, 1, 0]  [0, 0, 0, 0, 0, 0, 0, 0, 0, 0]\n",
       "..                     ...                             ...\n",
       "423  [1, 0, 1, 1, 0, 1, 1]  [0, 0, 0, 0, 0, 1, 0, 0, 0, 0]\n",
       "424  [1, 0, 0, 1, 0, 0, 0]  [0, 0, 0, 0, 0, 0, 0, 0, 0, 0]\n",
       "425  [0, 0, 1, 1, 1, 1, 1]  [0, 0, 0, 0, 0, 0, 1, 0, 0, 0]\n",
       "426  [1, 0, 1, 1, 0, 1, 1]  [0, 0, 0, 0, 0, 1, 0, 0, 0, 0]\n",
       "427  [0, 1, 0, 0, 1, 0, 1]  [0, 0, 0, 0, 0, 0, 0, 0, 0, 0]\n",
       "\n",
       "[428 rows x 2 columns]"
      ]
     },
     "execution_count": 43,
     "metadata": {},
     "output_type": "execute_result"
    }
   ],
   "source": [
    "df4"
   ]
  },
  {
   "cell_type": "markdown",
   "id": "64b17776",
   "metadata": {},
   "source": [
    "### Repeating the problem for A-Z Handwritten Alphabets using 5×5 grid structure. Use multiple patterns for each handwritten alphabet."
   ]
  },
  {
   "cell_type": "markdown",
   "id": "1a3db923",
   "metadata": {},
   "source": [
    "##### Alphabet Recognition"
   ]
  },
  {
   "cell_type": "code",
   "execution_count": 44,
   "id": "2333f069",
   "metadata": {},
   "outputs": [],
   "source": [
    "M = []\n",
    "N = []\n",
    "for i in range(26):\n",
    "    N.append([1])"
   ]
  },
  {
   "cell_type": "code",
   "execution_count": 45,
   "id": "43a93bbe",
   "metadata": {},
   "outputs": [],
   "source": [
    "M.append([0,1,1,1,0,\n",
    "          0,1,0,1,0,\n",
    "          0,1,1,1,0,\n",
    "          0,1,0,1,0,\n",
    "          0,1,0,1,0])\n",
    "\n",
    "M.append([0,1,1,0,0,\n",
    "          0,1,0,1,0,\n",
    "          0,1,1,0,0,\n",
    "          0,1,0,1,0,\n",
    "          0,1,1,0,0])\n",
    "\n",
    "M.append([0,1,1,1,0,\n",
    "          0,1,0,0,0,\n",
    "          0,1,0,0,0,\n",
    "          0,1,0,0,0,\n",
    "          0,1,1,1,0])\n",
    "\n",
    "M.append([0,1,1,0,0,\n",
    "          0,1,0,1,0,\n",
    "          0,1,0,1,0,\n",
    "          0,1,0,1,0,\n",
    "          0,1,1,0,0])\n",
    "\n",
    "M.append([0,1,1,1,0,\n",
    "          0,1,0,0,0,\n",
    "          0,1,1,1,0,\n",
    "          0,1,0,0,0,\n",
    "          0,1,1,1,0])\n",
    "\n",
    "M.append([0,1,1,1,0,\n",
    "          0,1,0,0,0,\n",
    "          0,1,1,1,0,\n",
    "          0,1,0,0,0,\n",
    "          0,1,0,0,0])\n",
    "\n",
    "M.append([0,1,1,1,0,\n",
    "          0,1,0,0,0,\n",
    "          0,1,0,1,1,\n",
    "          0,1,0,1,0,\n",
    "          0,1,1,1,0])\n",
    "\n",
    "M.append([0,1,0,1,0,\n",
    "          0,1,0,1,0,\n",
    "          0,1,1,1,0,\n",
    "          0,1,0,1,0,\n",
    "          0,1,0,1,0])\n",
    "\n",
    "M.append([0,1,1,1,0,\n",
    "          0,0,1,0,0,\n",
    "          0,0,1,0,0,\n",
    "          0,0,1,0,0,\n",
    "          0,1,1,1,0])\n",
    "\n",
    "M.append([0,1,1,1,0,\n",
    "          0,0,1,0,0,\n",
    "          0,0,1,0,0,\n",
    "          0,0,1,0,0,\n",
    "          0,1,1,0,0])\n",
    "\n",
    "M.append([0,1,0,1,0,\n",
    "          0,1,1,0,0,\n",
    "          0,1,0,0,0,\n",
    "          0,1,1,0,0,\n",
    "          0,1,0,1,0])\n",
    "\n",
    "M.append([0,1,0,0,0,\n",
    "          0,1,0,0,0,\n",
    "          0,1,0,0,0,\n",
    "          0,1,0,0,0,\n",
    "          0,1,1,1,0])\n",
    "\n",
    "M.append([1,0,0,0,1,\n",
    "          1,1,0,1,1,\n",
    "          1,0,1,0,1,\n",
    "          1,0,0,0,1,\n",
    "          1,0,0,0,1])\n",
    "\n",
    "M.append([1,0,0,0,1,\n",
    "          1,1,0,0,1,\n",
    "          1,0,1,0,1,\n",
    "          1,0,0,1,1,\n",
    "          1,0,0,0,1])\n",
    "\n",
    "M.append([0,0,1,0,0,\n",
    "          0,1,0,1,0,\n",
    "          0,1,0,1,0,\n",
    "          0,1,0,1,0,\n",
    "          0,0,1,0,0])\n",
    "\n",
    "M.append([0,1,1,1,0,\n",
    "          0,1,0,1,0,\n",
    "          0,1,1,1,0,\n",
    "          0,1,0,0,0,\n",
    "          0,1,0,0,0])\n",
    "\n",
    "M.append([0,0,1,0,0,\n",
    "          0,1,0,1,0,\n",
    "          0,1,0,1,0,\n",
    "          0,1,0,1,0,\n",
    "          0,0,1,0,1])\n",
    "\n",
    "M.append([0,1,1,1,0,\n",
    "          0,1,0,1,0,\n",
    "          0,1,1,1,0,\n",
    "          0,1,1,0,0,\n",
    "          0,1,0,1,0])\n",
    "\n",
    "M.append([0,1,1,1,0,\n",
    "          0,1,0,0,0,\n",
    "          0,1,1,1,0,\n",
    "          0,0,0,1,0,\n",
    "          0,1,1,1,0])\n",
    "\n",
    "M.append([0,1,1,1,0,\n",
    "          0,0,1,0,0,\n",
    "          0,0,1,0,0,\n",
    "          0,0,1,0,0,\n",
    "          0,0,1,0,0])\n",
    "\n",
    "M.append([0,1,0,1,0,\n",
    "          0,1,0,1,0,\n",
    "          0,1,0,1,0,\n",
    "          0,1,0,1,0,\n",
    "          0,1,1,1,0])\n",
    "\n",
    "M.append([0,1,0,1,0,\n",
    "          0,1,0,1,0,\n",
    "          0,1,0,1,0,\n",
    "          0,1,0,1,0,\n",
    "          0,0,1,0,0])\n",
    "\n",
    "M.append([1,0,0,0,1,\n",
    "          1,0,0,0,1,\n",
    "          1,0,1,0,1,\n",
    "          1,1,0,1,1,\n",
    "          1,0,0,0,1])\n",
    "\n",
    "M.append([1,0,0,0,1,\n",
    "          0,1,0,1,0,\n",
    "          0,0,1,0,0,\n",
    "          0,1,0,1,0,\n",
    "          1,0,0,0,1])\n",
    "\n",
    "M.append([0,1,0,1,0,\n",
    "          0,1,0,1,0,\n",
    "          0,0,1,0,0,\n",
    "          0,0,1,0,0,\n",
    "          0,0,1,0,0])\n",
    "\n",
    "M.append([1,1,1,1,1,\n",
    "          0,0,0,1,0,\n",
    "          0,0,1,0,0,\n",
    "          0,1,0,0,0,\n",
    "          1,1,1,1,1])"
   ]
  },
  {
   "cell_type": "code",
   "execution_count": 46,
   "id": "aa26be88",
   "metadata": {},
   "outputs": [],
   "source": [
    "import random"
   ]
  },
  {
   "cell_type": "code",
   "execution_count": 47,
   "id": "5835dcc9",
   "metadata": {},
   "outputs": [],
   "source": [
    "for i in range(74):\n",
    "    M.append([])\n",
    "    for j in range(25):\n",
    "        k = random.random()\n",
    "        if k >= 0.5:\n",
    "            k=1\n",
    "        else:\n",
    "            k=0\n",
    "        M[26+i].append(k)\n",
    "    tmp = 1\n",
    "    for z in range(25+i-1):\n",
    "        \n",
    "        if M[25+i]==M[z]:\n",
    "            i = i-1\n",
    "            tmp = 0\n",
    "            M.pop()\n",
    "            break\n",
    "    if tmp != 0:\n",
    "        N.append([0]) "
   ]
  },
  {
   "cell_type": "code",
   "execution_count": 48,
   "id": "3e943377",
   "metadata": {},
   "outputs": [],
   "source": [
    "dfa = pd.DataFrame()"
   ]
  },
  {
   "cell_type": "code",
   "execution_count": 49,
   "id": "c6ad50c5",
   "metadata": {},
   "outputs": [],
   "source": [
    "dfa['Grid'] = M"
   ]
  },
  {
   "cell_type": "code",
   "execution_count": 50,
   "id": "f1161d71",
   "metadata": {},
   "outputs": [],
   "source": [
    "dfa['Alphabet'] = N"
   ]
  },
  {
   "cell_type": "code",
   "execution_count": 51,
   "id": "b2fe60ea",
   "metadata": {},
   "outputs": [
    {
     "data": {
      "text/html": [
       "<div>\n",
       "<style scoped>\n",
       "    .dataframe tbody tr th:only-of-type {\n",
       "        vertical-align: middle;\n",
       "    }\n",
       "\n",
       "    .dataframe tbody tr th {\n",
       "        vertical-align: top;\n",
       "    }\n",
       "\n",
       "    .dataframe thead th {\n",
       "        text-align: right;\n",
       "    }\n",
       "</style>\n",
       "<table border=\"1\" class=\"dataframe\">\n",
       "  <thead>\n",
       "    <tr style=\"text-align: right;\">\n",
       "      <th></th>\n",
       "      <th>Grid</th>\n",
       "      <th>Alphabet</th>\n",
       "    </tr>\n",
       "  </thead>\n",
       "  <tbody>\n",
       "    <tr>\n",
       "      <th>0</th>\n",
       "      <td>[0, 1, 1, 1, 0, 0, 1, 0, 1, 0, 0, 1, 1, 1, 0, ...</td>\n",
       "      <td>[1]</td>\n",
       "    </tr>\n",
       "    <tr>\n",
       "      <th>1</th>\n",
       "      <td>[0, 1, 1, 0, 0, 0, 1, 0, 1, 0, 0, 1, 1, 0, 0, ...</td>\n",
       "      <td>[1]</td>\n",
       "    </tr>\n",
       "    <tr>\n",
       "      <th>2</th>\n",
       "      <td>[0, 1, 1, 1, 0, 0, 1, 0, 0, 0, 0, 1, 0, 0, 0, ...</td>\n",
       "      <td>[1]</td>\n",
       "    </tr>\n",
       "    <tr>\n",
       "      <th>3</th>\n",
       "      <td>[0, 1, 1, 0, 0, 0, 1, 0, 1, 0, 0, 1, 0, 1, 0, ...</td>\n",
       "      <td>[1]</td>\n",
       "    </tr>\n",
       "    <tr>\n",
       "      <th>4</th>\n",
       "      <td>[0, 1, 1, 1, 0, 0, 1, 0, 0, 0, 0, 1, 1, 1, 0, ...</td>\n",
       "      <td>[1]</td>\n",
       "    </tr>\n",
       "    <tr>\n",
       "      <th>...</th>\n",
       "      <td>...</td>\n",
       "      <td>...</td>\n",
       "    </tr>\n",
       "    <tr>\n",
       "      <th>95</th>\n",
       "      <td>[1, 0, 0, 0, 1, 0, 0, 1, 0, 1, 0, 1, 0, 1, 1, ...</td>\n",
       "      <td>[0]</td>\n",
       "    </tr>\n",
       "    <tr>\n",
       "      <th>96</th>\n",
       "      <td>[1, 1, 1, 0, 1, 1, 1, 1, 1, 1, 0, 0, 0, 0, 0, ...</td>\n",
       "      <td>[0]</td>\n",
       "    </tr>\n",
       "    <tr>\n",
       "      <th>97</th>\n",
       "      <td>[0, 0, 1, 0, 0, 1, 0, 1, 1, 0, 1, 0, 1, 0, 0, ...</td>\n",
       "      <td>[0]</td>\n",
       "    </tr>\n",
       "    <tr>\n",
       "      <th>98</th>\n",
       "      <td>[1, 0, 1, 1, 0, 0, 1, 0, 0, 0, 0, 1, 1, 0, 1, ...</td>\n",
       "      <td>[0]</td>\n",
       "    </tr>\n",
       "    <tr>\n",
       "      <th>99</th>\n",
       "      <td>[0, 1, 1, 0, 1, 0, 0, 1, 1, 0, 1, 1, 0, 1, 0, ...</td>\n",
       "      <td>[0]</td>\n",
       "    </tr>\n",
       "  </tbody>\n",
       "</table>\n",
       "<p>100 rows × 2 columns</p>\n",
       "</div>"
      ],
      "text/plain": [
       "                                                 Grid Alphabet\n",
       "0   [0, 1, 1, 1, 0, 0, 1, 0, 1, 0, 0, 1, 1, 1, 0, ...      [1]\n",
       "1   [0, 1, 1, 0, 0, 0, 1, 0, 1, 0, 0, 1, 1, 0, 0, ...      [1]\n",
       "2   [0, 1, 1, 1, 0, 0, 1, 0, 0, 0, 0, 1, 0, 0, 0, ...      [1]\n",
       "3   [0, 1, 1, 0, 0, 0, 1, 0, 1, 0, 0, 1, 0, 1, 0, ...      [1]\n",
       "4   [0, 1, 1, 1, 0, 0, 1, 0, 0, 0, 0, 1, 1, 1, 0, ...      [1]\n",
       "..                                                ...      ...\n",
       "95  [1, 0, 0, 0, 1, 0, 0, 1, 0, 1, 0, 1, 0, 1, 1, ...      [0]\n",
       "96  [1, 1, 1, 0, 1, 1, 1, 1, 1, 1, 0, 0, 0, 0, 0, ...      [0]\n",
       "97  [0, 0, 1, 0, 0, 1, 0, 1, 1, 0, 1, 0, 1, 0, 0, ...      [0]\n",
       "98  [1, 0, 1, 1, 0, 0, 1, 0, 0, 0, 0, 1, 1, 0, 1, ...      [0]\n",
       "99  [0, 1, 1, 0, 1, 0, 0, 1, 1, 0, 1, 1, 0, 1, 0, ...      [0]\n",
       "\n",
       "[100 rows x 2 columns]"
      ]
     },
     "execution_count": 51,
     "metadata": {},
     "output_type": "execute_result"
    }
   ],
   "source": [
    "dfa"
   ]
  },
  {
   "cell_type": "code",
   "execution_count": 52,
   "id": "94008574",
   "metadata": {},
   "outputs": [],
   "source": [
    "M = np.array(M)\n",
    "N = np.array(N)"
   ]
  },
  {
   "cell_type": "code",
   "execution_count": 53,
   "id": "e65c4322",
   "metadata": {},
   "outputs": [
    {
     "data": {
      "text/plain": [
       "25"
      ]
     },
     "execution_count": 53,
     "metadata": {},
     "output_type": "execute_result"
    }
   ],
   "source": [
    "M.shape[1]"
   ]
  },
  {
   "cell_type": "code",
   "execution_count": 54,
   "id": "011fdd27",
   "metadata": {},
   "outputs": [],
   "source": [
    "input_size = M.shape[1]\n",
    "hidden_size = 2\n",
    "output_size = 1\n",
    "learning_rate = 0.01\n",
    "epochs = 10000"
   ]
  },
  {
   "cell_type": "code",
   "execution_count": 55,
   "id": "fd933e13",
   "metadata": {},
   "outputs": [],
   "source": [
    "nn = NeuralNetwork(input_size, hidden_size, output_size, learning_rate)\n",
    "losses = nn.train(M, N, epochs)"
   ]
  },
  {
   "cell_type": "code",
   "execution_count": 56,
   "id": "29c5ce9e",
   "metadata": {},
   "outputs": [
    {
     "data": {
      "image/png": "[encoded data removed]",
      "text/plain": [
       "<Figure size 640x480 with 1 Axes>"
      ]
     },
     "metadata": {},
     "output_type": "display_data"
    }
   ],
   "source": [
    "plt.plot(range(epochs), losses)\n",
    "plt.xlabel('Epochs')\n",
    "plt.ylabel('Loss')\n",
    "plt.show()"
   ]
  },
  {
   "cell_type": "code",
   "execution_count": 57,
   "id": "17a92b55",
   "metadata": {},
   "outputs": [],
   "source": [
    "input_size = M.shape[1]\n",
    "hidden_size = 2\n",
    "output_size = 1\n",
    "learning_rate = 0.01\n",
    "epochs = 2000\n",
    "k_folds = 4"
   ]
  },
  {
   "cell_type": "code",
   "execution_count": 58,
   "id": "d2384ac1",
   "metadata": {},
   "outputs": [],
   "source": [
    "accuracy_scoresA = []\n",
    "specificity_scoresA = []\n",
    "sensitivity_scoresA = []\n",
    "precision_scoresA = []\n",
    "recall_scoresA = []\n",
    "f1_scoresA = []"
   ]
  },
  {
   "cell_type": "code",
   "execution_count": 59,
   "id": "17354b28",
   "metadata": {},
   "outputs": [],
   "source": [
    "kf = KFold(n_splits=k_folds, shuffle=False)"
   ]
  },
  {
   "cell_type": "code",
   "execution_count": 60,
   "id": "827ede03",
   "metadata": {},
   "outputs": [],
   "source": [
    "for train_index, val_index in kf.split(M):\n",
    "    X_train, X_val = M[train_index], M[val_index]\n",
    "    y_train, y_val = N[train_index], N[val_index]\n",
    "    \n",
    "    nn = NeuralNetwork(input_size, hidden_size, output_size, learning_rate)\n",
    "    losses = nn.train(X_train,y_train, epochs)\n",
    "    \n",
    "    hidden_layer_input = np.dot(X_val, nn.weights_input_hidden) + nn.bias_hidden\n",
    "    hidden_layer_output = sigmoid(hidden_layer_input)\n",
    "    output_layer_input = np.dot(hidden_layer_output, nn.weights_hidden_output) + nn.bias_output\n",
    "    output_layer_output = sigmoid(output_layer_input)\n",
    "    \n",
    "    predictions = (output_layer_output >= 0.5).astype(int) \n",
    "    accuracy = accuracy_score(y_val, predictions)        \n",
    "    accuracy_scoresA.append(accuracy)"
   ]
  },
  {
   "cell_type": "code",
   "execution_count": 61,
   "id": "43d0de01",
   "metadata": {},
   "outputs": [
    {
     "name": "stdout",
     "output_type": "stream",
     "text": [
      "Average Accuracy: 0.73\n"
     ]
    }
   ],
   "source": [
    "avg_accuracyA = np.mean(accuracy_scoresA)\n",
    "print(f\"Average Accuracy: {avg_accuracyA}\")"
   ]
  },
  {
   "cell_type": "code",
   "execution_count": null,
   "id": "4e99579a",
   "metadata": {},
   "outputs": [],
   "source": []
  }
 ],
 "metadata": {
  "kernelspec": {
   "display_name": "Python 3 (ipykernel)",
   "language": "python",
   "name": "python3"
  },
  "language_info": {
   "codemirror_mode": {
    "name": "ipython",
    "version": 3
   },
   "file_extension": ".py",
   "mimetype": "text/x-python",
   "name": "python",
   "nbconvert_exporter": "python",
   "pygments_lexer": "ipython3",
   "version": "3.10.9"
  }
 },
 "nbformat": 4,
 "nbformat_minor": 5
}
